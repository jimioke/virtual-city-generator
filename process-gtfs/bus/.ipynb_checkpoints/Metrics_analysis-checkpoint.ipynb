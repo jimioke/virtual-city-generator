{
 "cells": [
  {
   "cell_type": "code",
   "execution_count": 13,
   "metadata": {},
   "outputs": [],
   "source": [
    "import pandas as pd\n",
    "# PREPARE SIMMOBILITY\n",
    "# simFolder = 'Auto_sprawl_drive_main/simmobility/'\n",
    "# gtfsFolder = 'clean-gtfs/MergedBus/'\n",
    "# processFolder = 'process_big/'\n",
    "# databaseFolder = 'to_db_big/'\n",
    "\n",
    "# Small example\n",
    "simFolder = 'Baltimore_small/simmobility/'\n",
    "gtfsFolder = 'gtfs_source_small_example/gtfs-QueenAnne/'\n",
    "processFolder = 'process_small_example/'\n",
    "databaseFolder = 'to_db/'\n",
    "\n",
    "def getSubtripMetrics():\n",
    "    connectedTrips = pd.read_pickle(processFolder + 'subtrips_wSegments.pkl')\n",
    "    connectedTrips['len_stops'] = connectedTrips.apply(lambda row: len(row.stops), axis=1)\n",
    "    connectedTrips['len_uniq_stops'] = connectedTrips.apply(lambda row: len(set(row.stops)), axis=1)\n",
    "    print('Number of the same segment consequent stops')\n",
    "    print(len(connectedTrips[connectedTrips.len_stops != connectedTrips.len_uniq_stops]))\n",
    "    connectedTrips['len_path_in_seg'] = connectedTrips.apply(lambda row: len(row.path_segments), axis=1)\n",
    "    print(\"stops ---------------\")\n",
    "    print(connectedTrips.len_stops.value_counts())\n",
    "    # print(\"paths ----------------\")\n",
    "    print(connectedTrips.len_stops.sum())\n",
    "    # print(connectedTrips.len_path_in_seg.value_counts())\n"
   ]
  },
  {
   "cell_type": "code",
   "execution_count": 22,
   "metadata": {},
   "outputs": [
    {
     "name": "stdout",
     "output_type": "stream",
     "text": [
      "('Number of stops ', 3502)\n",
      "('Number of stops (coordinatewise) ', 3095)\n"
     ]
    }
   ],
   "source": [
    "%matplotlib inline\n",
    "\n",
    "import matplotlib\n",
    "import numpy as np\n",
    "import matplotlib.pyplot as plt\n",
    "\n",
    "simFolder = 'Auto_sprawl_drive_main/simmobility/'\n",
    "gtfsFolder = 'clean-gtfs/MergedBus/'\n",
    "processFolder = 'process_big/'\n",
    "databaseFolder = 'to_db_big/'\n",
    "\n",
    "\n",
    "def getRouteMetrics():\n",
    "    # ['route_id', 'sequence_no', 'section_id']\n",
    "    pt_bus_routes = pd.read_csv(databaseFolder +  'pt_bus_routes.csv')\n",
    "\n",
    "    print('Number of routes ', len(pt_bus_routes.route_id.unique()))\n",
    "    route_segments = pt_bus_routes.groupby('route_id')['section_id'].apply(list)\n",
    "    route_segments_len = route_segments.apply(lambda row: len(row))\n",
    "    print('Len of route segments median ', route_segments_len.median())\n",
    "    plt.hist(route_segments_len, bins=100)\n",
    "    \n",
    "    \n",
    "def getRouteStopMetrics():\n",
    "    # ['route_id', 'stop_code', 'sequence_no']\n",
    "    pt_bus_stops = pd.read_csv(databaseFolder +  'pt_bus_stops.csv')\n",
    "    print('Number of routes ', len(pt_bus_stops.route_id.unique()))\n",
    "    route_stops = pt_bus_stops.groupby('route_id')['stop_code'].apply(list)\n",
    "    route_stops_len = route_stops.apply(lambda row: len(row))\n",
    "    print('Len of route stops median ', route_stops_len.median())\n",
    "    plt.hist(route_stops_len, bins=100)\n",
    "# getRouteStopMetrics()\n",
    "\n",
    "def getStopMetrics():\n",
    "    # ['x', 'y', 'z', 'id', 'code', 'section_id', 'name', 'status', 'terminal',\n",
    "    #    'length', 'section_offset', 'tags', 'reverse_section', 'terminal_node']\n",
    "    bus_stops = pd.read_csv(databaseFolder + 'bus_stop.csv')\n",
    "    print('Number of stops ', len(bus_stops.id.unique()))\n",
    "    uni_stops = bus_stops.drop_duplicates(subset=['x', 'y'])\n",
    "    print('Number of stops (coordinatewise) ', len(uni_stops))\n",
    "getStopMetrics()\n",
    "    "
   ]
  },
  {
   "cell_type": "code",
   "execution_count": null,
   "metadata": {
    "collapsed": true
   },
   "outputs": [],
   "source": []
  }
 ],
 "metadata": {
  "kernelspec": {
   "display_name": "Python 3",
   "language": "python",
   "name": "python3"
  },
  "language_info": {
   "codemirror_mode": {
    "name": "ipython",
    "version": 2
   },
   "file_extension": ".py",
   "mimetype": "text/x-python",
   "name": "python",
   "nbconvert_exporter": "python",
   "pygments_lexer": "ipython2",
   "version": "2.7.14"
  }
 },
 "nbformat": 4,
 "nbformat_minor": 2
}
