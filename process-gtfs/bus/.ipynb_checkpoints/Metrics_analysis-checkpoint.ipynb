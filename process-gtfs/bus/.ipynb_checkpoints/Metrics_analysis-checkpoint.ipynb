{
 "cells": [
  {
   "cell_type": "code",
   "execution_count": 13,
   "metadata": {
    "collapsed": true
   },
   "outputs": [],
   "source": [
    "import pandas as pd\n",
    "# PREPARE SIMMOBILITY\n",
    "# simFolder = 'Auto_sprawl_drive_main/simmobility/'\n",
    "# gtfsFolder = 'clean-gtfs/MergedBus/'\n",
    "# processFolder = 'process_big/'\n",
    "# databaseFolder = 'to_db_big/'\n",
    "\n",
    "# Small example\n",
    "simFolder = 'Baltimore_small/simmobility/'\n",
    "gtfsFolder = 'gtfs_source_small_example/gtfs-QueenAnne/'\n",
    "processFolder = 'process_small_example/'\n",
    "databaseFolder = 'to_db/'\n",
    "\n",
    "def getSubtripMetrics():\n",
    "    connectedTrips = pd.read_pickle(processFolder + 'subtrips_wSegments.pkl')\n",
    "    connectedTrips['len_stops'] = connectedTrips.apply(lambda row: len(row.stops), axis=1)\n",
    "    connectedTrips['len_uniq_stops'] = connectedTrips.apply(lambda row: len(set(row.stops)), axis=1)\n",
    "    print('Number of the same segment consequent stops')\n",
    "    print(len(connectedTrips[connectedTrips.len_stops != connectedTrips.len_uniq_stops]))\n",
    "    connectedTrips['len_path_in_seg'] = connectedTrips.apply(lambda row: len(row.path_segments), axis=1)\n",
    "    print(\"stops ---------------\")\n",
    "    print(connectedTrips.len_stops.value_counts())\n",
    "    # print(\"paths ----------------\")\n",
    "    print(connectedTrips.len_stops.sum())\n",
    "    # print(connectedTrips.len_path_in_seg.value_counts())\n"
   ]
  },
  {
   "cell_type": "code",
   "execution_count": 1,
   "metadata": {},
   "outputs": [
    {
     "ename": "NameError",
     "evalue": "global name 'pd' is not defined",
     "output_type": "error",
     "traceback": [
      "\u001b[0;31m---------------------------------------------------------------------------\u001b[0m",
      "\u001b[0;31mNameError\u001b[0m                                 Traceback (most recent call last)",
      "\u001b[0;32m<ipython-input-1-1db21b03406c>\u001b[0m in \u001b[0;36m<module>\u001b[0;34m()\u001b[0m\n\u001b[1;32m     37\u001b[0m     \u001b[0;32mprint\u001b[0m\u001b[0;34m(\u001b[0m\u001b[0;34m'Len of route stops median '\u001b[0m\u001b[0;34m,\u001b[0m \u001b[0mroute_stops_len\u001b[0m\u001b[0;34m.\u001b[0m\u001b[0mmedian\u001b[0m\u001b[0;34m(\u001b[0m\u001b[0;34m)\u001b[0m\u001b[0;34m)\u001b[0m\u001b[0;34m\u001b[0m\u001b[0m\n\u001b[1;32m     38\u001b[0m     \u001b[0mplt\u001b[0m\u001b[0;34m.\u001b[0m\u001b[0mhist\u001b[0m\u001b[0;34m(\u001b[0m\u001b[0mroute_stops_len\u001b[0m\u001b[0;34m,\u001b[0m \u001b[0mbins\u001b[0m\u001b[0;34m=\u001b[0m\u001b[0;36m100\u001b[0m\u001b[0;34m)\u001b[0m\u001b[0;34m\u001b[0m\u001b[0m\n\u001b[0;32m---> 39\u001b[0;31m \u001b[0mgetRouteStopMetrics\u001b[0m\u001b[0;34m(\u001b[0m\u001b[0;34m)\u001b[0m\u001b[0;34m\u001b[0m\u001b[0m\n\u001b[0m\u001b[1;32m     40\u001b[0m \u001b[0;34m\u001b[0m\u001b[0m\n\u001b[1;32m     41\u001b[0m \u001b[0;32mdef\u001b[0m \u001b[0mgetStopMetrics\u001b[0m\u001b[0;34m(\u001b[0m\u001b[0;34m)\u001b[0m\u001b[0;34m:\u001b[0m\u001b[0;34m\u001b[0m\u001b[0m\n",
      "\u001b[0;32m<ipython-input-1-1db21b03406c>\u001b[0m in \u001b[0;36mgetRouteStopMetrics\u001b[0;34m()\u001b[0m\n\u001b[1;32m     31\u001b[0m \u001b[0;32mdef\u001b[0m \u001b[0mgetRouteStopMetrics\u001b[0m\u001b[0;34m(\u001b[0m\u001b[0;34m)\u001b[0m\u001b[0;34m:\u001b[0m\u001b[0;34m\u001b[0m\u001b[0m\n\u001b[1;32m     32\u001b[0m     \u001b[0;31m# ['route_id', 'stop_code', 'sequence_no']\u001b[0m\u001b[0;34m\u001b[0m\u001b[0;34m\u001b[0m\u001b[0m\n\u001b[0;32m---> 33\u001b[0;31m     \u001b[0mpt_bus_stops\u001b[0m \u001b[0;34m=\u001b[0m \u001b[0mpd\u001b[0m\u001b[0;34m.\u001b[0m\u001b[0mread_csv\u001b[0m\u001b[0;34m(\u001b[0m\u001b[0mdatabaseFolder\u001b[0m \u001b[0;34m+\u001b[0m  \u001b[0;34m'pt_bus_stops.csv'\u001b[0m\u001b[0;34m)\u001b[0m\u001b[0;34m\u001b[0m\u001b[0m\n\u001b[0m\u001b[1;32m     34\u001b[0m     \u001b[0;32mprint\u001b[0m\u001b[0;34m(\u001b[0m\u001b[0;34m'Number of routes '\u001b[0m\u001b[0;34m,\u001b[0m \u001b[0mlen\u001b[0m\u001b[0;34m(\u001b[0m\u001b[0mpt_bus_stops\u001b[0m\u001b[0;34m.\u001b[0m\u001b[0mroute_id\u001b[0m\u001b[0;34m.\u001b[0m\u001b[0munique\u001b[0m\u001b[0;34m(\u001b[0m\u001b[0;34m)\u001b[0m\u001b[0;34m)\u001b[0m\u001b[0;34m)\u001b[0m\u001b[0;34m\u001b[0m\u001b[0m\n\u001b[1;32m     35\u001b[0m     \u001b[0mroute_stops\u001b[0m \u001b[0;34m=\u001b[0m \u001b[0mpt_bus_stops\u001b[0m\u001b[0;34m.\u001b[0m\u001b[0mgroupby\u001b[0m\u001b[0;34m(\u001b[0m\u001b[0;34m'route_id'\u001b[0m\u001b[0;34m)\u001b[0m\u001b[0;34m[\u001b[0m\u001b[0;34m'stop_code'\u001b[0m\u001b[0;34m]\u001b[0m\u001b[0;34m.\u001b[0m\u001b[0mapply\u001b[0m\u001b[0;34m(\u001b[0m\u001b[0mlist\u001b[0m\u001b[0;34m)\u001b[0m\u001b[0;34m\u001b[0m\u001b[0m\n",
      "\u001b[0;31mNameError\u001b[0m: global name 'pd' is not defined"
     ]
    }
   ],
   "source": [
    "%matplotlib inline\n",
    "\n",
    "import matplotlib\n",
    "import numpy as np\n",
    "import matplotlib.pyplot as plt\n",
    "import pandas as pd\n",
    "\n",
    "# Baltimore\n",
    "simFolder = 'Auto_sprawl_drive_main/simmobility/'\n",
    "gtfsFolder = 'clean-gtfs/MergedBus/'\n",
    "processFolder = 'process_big/'\n",
    "databaseFolder = 'to_db_big/'\n",
    "\n",
    "# Tel Aviv\n",
    "simFolder = '../../network-from-OSM/Outputs/tel_aviv/simmobility_wgs84/'\n",
    "gtfsFolder = 'gtfs_clean_israel/bus/'\n",
    "processFolder = 'process_tel_aviv/'\n",
    "databaseFolder = 'to_db_tel_aviv/'\n",
    "\n",
    "\n",
    "def getRouteMetrics():\n",
    "    # ['route_id', 'sequence_no', 'section_id']\n",
    "    pt_bus_routes = pd.read_csv(databaseFolder +  'pt_bus_routes.csv')\n",
    "\n",
    "    print('Number of routes ', len(pt_bus_routes.route_id.unique()))\n",
    "    route_segments = pt_bus_routes.groupby('route_id')['section_id'].apply(list)\n",
    "    route_segments_len = route_segments.apply(lambda row: len(row))\n",
    "    print('Len of route segments median ', route_segments_len.median())\n",
    "    plt.hist(route_segments_len, bins=100)\n",
    "    \n",
    "    \n",
    "def getRouteStopMetrics():\n",
    "    # ['route_id', 'stop_code', 'sequence_no']\n",
    "    pt_bus_stops = pd.read_csv(databaseFolder +  'pt_bus_stops.csv')\n",
    "    print('Number of routes ', len(pt_bus_stops.route_id.unique()))\n",
    "    route_stops = pt_bus_stops.groupby('route_id')['stop_code'].apply(list)\n",
    "    route_stops_len = route_stops.apply(lambda row: len(row))\n",
    "    print('Len of route stops median ', route_stops_len.median())\n",
    "    plt.hist(route_stops_len, bins=100)\n",
    "getRouteStopMetrics()\n",
    "\n",
    "def getStopMetrics():\n",
    "    # ['x', 'y', 'z', 'id', 'code', 'section_id', 'name', 'status', 'terminal',\n",
    "    #    'length', 'section_offset', 'tags', 'reverse_section', 'terminal_node']\n",
    "    bus_stops = pd.read_csv(databaseFolder + 'bus_stop.csv')\n",
    "    print('Number of stops ', len(bus_stops.id.unique()))\n",
    "    uni_stops = bus_stops.drop_duplicates(subset=['x', 'y'])\n",
    "    print('Number of stops (coordinatewise) ', len(uni_stops))\n",
    "getStopMetrics()\n",
    "    "
   ]
  },
  {
   "cell_type": "code",
   "execution_count": 9,
   "metadata": {},
   "outputs": [
    {
     "name": "stdout",
     "output_type": "stream",
     "text": [
      "('Number of stops ', 5005)\n",
      "('Number of stops (coordinatewise) ', 4999)\n"
     ]
    }
   ],
   "source": [
    "%matplotlib inline\n",
    "import pandas as pd\n",
    "import matplotlib\n",
    "import numpy as np\n",
    "import matplotlib.pyplot as plt\n",
    "# simFolder = 'Baltimore_small/simmobility/'\n",
    "# gtfsFolder = 'gtfs_source_small_example/gtfs-QueenAnne/'\n",
    "# processFolder = 'process_small_example/'\n",
    "# databaseFolder = 'to_db/'\n",
    "\n",
    "simFolder = 'Auto_sprawl_drive_main/simmobility/'\n",
    "gtfsFolder = 'clean-gtfs/MergedBus/'\n",
    "processFolder = 'process_big/'\n",
    "databaseFolder = 'to_db_big/'\n",
    "\n",
    "def getRouteMetrics_original():\n",
    "    # ['route_id', 'sequence_no', 'section_id']\n",
    "#     print('Number of routes ', len(pt_bus_routes.route_id.unique()))\n",
    "#     route_segments = pt_bus_routes.groupby('route_id')['section_id'].apply(list)\n",
    "#     route_segments_len = route_segments.apply(lambda row: len(row))\n",
    "#     print('Len of route segments median ', route_segments_len.median())\n",
    "#     plt.hist(route_segments_len, bins=100)\n",
    "    trips_df = pd.read_csv(gtfsFolder  + 'trips.txt')\n",
    "    shape_df = pd.read_csv(gtfsFolder + 'shapes.txt')\n",
    "    print(trips_df.columns)\n",
    "    print(shape_df.columns)\n",
    "\n",
    "# getRouteMetrics_original()\n",
    "    \n",
    "    \n",
    "def getRouteStopMetrics_original():\n",
    "    stoptime_df = pd.read_csv(gtfsFolder  + 'stop_times.txt')\n",
    "    trip_stop = stoptime_df.groupby('trip_id')['stop_id'].apply(list)\n",
    "    trip_stop_len = trip_stop.apply(lambda row: len(row))\n",
    "    print('Len of route stops median ', trip_stop_len.median())\n",
    "    plt.hist(trip_stop_len, bins=100)\n",
    "# getRouteStopMetrics()\n",
    "\n",
    "def getStopMetrics_original():\n",
    "    stop_df = pd.read_csv(gtfsFolder + 'stops.txt')\n",
    "    # ['x', 'y', 'z', 'id', 'code', 'section_id', 'name', 'status', 'terminal',\n",
    "    #    'length', 'section_offset', 'tags', 'reverse_section', 'terminal_node']\n",
    "    print('Number of stops ', len(stop_df.stop_id.unique()))\n",
    "    uni_stops = stop_df.drop_duplicates(subset=['stop_lon', 'stop_lat'])\n",
    "    print('Number of stops (coordinatewise) ', len(uni_stops))\n",
    "getStopMetrics_original()"
   ]
  },
  {
   "cell_type": "code",
   "execution_count": null,
   "metadata": {
    "collapsed": true
   },
   "outputs": [],
   "source": []
  }
 ],
 "metadata": {
  "kernelspec": {
   "display_name": "Python 3",
   "language": "python",
   "name": "python3"
  },
  "language_info": {
   "codemirror_mode": {
    "name": "ipython",
    "version": 2
   },
   "file_extension": ".py",
   "mimetype": "text/x-python",
   "name": "python",
   "nbconvert_exporter": "python",
   "pygments_lexer": "ipython2",
   "version": "2.7.14"
  }
 },
 "nbformat": 4,
 "nbformat_minor": 2
}
