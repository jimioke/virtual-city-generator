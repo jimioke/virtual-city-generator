import osmnx as ox
import pandas as pd
import numpy as np
import networkx as nx
import matplotlib.cm as cm
from stateDict import us_state_abbrev
from operator import eq, contains
import sys
import logging
import signal

def getGraph(location, type='drive'):
	# gdf = ox.gdf_from_place(location)
	# areaSqM = ox.project_gdf(gdf).unary_union.area
	try:
		G = ox.graph_from_place(location, network_type='drive')
		ox.plot_graph(ox.project_graph(G))
	except ValueError:
		G = ox.graph_from_place(location, network_type='drive',which_result=2)
	return G #, areaSqM

