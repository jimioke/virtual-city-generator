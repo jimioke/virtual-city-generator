{
 "cells": [
  {
   "cell_type": "code",
   "execution_count": 4,
   "metadata": {},
   "outputs": [
    {
     "name": "stdout",
     "output_type": "stream",
     "text": [
      "Index([u'YEAR', u'DATANUM', u'SERIAL', u'HHWT', u'COUNTY', u'MET2013',\n",
      "       u'CITYPOP', u'PUMA', u'CPUMA0010', u'GQ', u'OWNERSHP', u'OWNERSHPD',\n",
      "       u'HHINCOME', u'VEHICLES', u'PERNUM', u'PERWT', u'FAMSIZE', u'RELATE',\n",
      "       u'RELATED', u'SEX', u'AGE', u'SCHOOL', u'EDUC', u'EDUCD', u'EMPSTAT',\n",
      "       u'EMPSTATD', u'LABFORCE', u'OCC', u'INCTOT', u'INCWAGE', u'INCEARN',\n",
      "       u'TRANWORK', u'TRANTIME', u'DEPARTS', u'ARRIVES'],\n",
      "      dtype='object')\n"
     ]
    },
    {
     "data": {
      "text/plain": [
       "array([ 64, 101,  14,   2,   1,  23,  63,  71,  81,  26,  11,  12, 116,\n",
       "       114, 115,  40,  50,  16,  17,  15,  65,  30,  25,  22,  61])"
      ]
     },
     "execution_count": 4,
     "metadata": {},
     "output_type": "execute_result"
    }
   ],
   "source": [
    "################################################################################\n",
    "# Description: Format micro sample data in two formats:\n",
    "#   1. samples' attributes are categories (for Multi-level IPU)\n",
    "#   2. samples with all attributes to be scaled (synthesied based on its weight)\n",
    "################################################################################\n",
    "import pandas as pd\n",
    "import csv\n",
    "import re\n",
    "import numpy as np\n",
    "import math\n",
    "import matplotlib\n",
    "\n",
    "# inputFile = 'baltimore_ind_samples.csv'\n",
    "inputFile = 'Population_data/baltimore_samples_2018_apr30.csv'\n",
    "outputFolder = 'Processing_data/samples/'\n",
    "# for generating population with all attributes\n",
    "sampleAttFile = outputFolder + 'samples_with_all_attributes.csv'\n",
    "multilevelSampleFile = outputFolder + 'samples.dat'\n",
    "df = pd.read_csv(inputFile)\n",
    "df_samples = pd.DataFrame()\n",
    "\n",
    "# Sample header: YEAR,DATANUM,SERIAL,HHWT,COUNTY,MET2013,CITYPOP,PUMA,CPUMA0010,GQ,OWNERSHP,OWNERSHPD,HHINCOME,PERNUM,PERWT,FAMSIZE,SEX,AGE,EDUC,EDUCD,EMPSTAT,EMPSTATD,LABFORCE,OCC,TRANWORK\n",
    "print(df.columns)\n",
    "df['EDUCD'].unique()"
   ]
  },
  {
   "cell_type": "code",
   "execution_count": 47,
   "metadata": {},
   "outputs": [
    {
     "data": {
      "text/plain": [
       "array([[<matplotlib.axes._subplots.AxesSubplot object at 0x10c19d410>]],\n",
       "      dtype=object)"
      ]
     },
     "execution_count": 47,
     "metadata": {},
     "output_type": "execute_result"
    },
    {
     "data": {
      "image/png": "[encoded data removed]",
      "text/plain": [
       "<matplotlib.figure.Figure at 0x10b9d2d10>"
      ]
     },
     "metadata": {},
     "output_type": "display_data"
    },
    {
     "data": {
      "image/png": "[encoded data removed]",
      "text/plain": [
       "<matplotlib.figure.Figure at 0x10bd1bc90>"
      ]
     },
     "metadata": {},
     "output_type": "display_data"
    }
   ],
   "source": [
    "%matplotlib inline\n",
    "\n",
    "lower_hhincome = df[df['HHINCOME'] < 200000]\n",
    "# lower_hhincome['HHINCOME'] = lower_hhincome.apply(lambda r: r.HHINCOME/12, axis=1)\n",
    "lower_hhincome.hist(column='HHINCOME', bins=50)\n",
    "# df['HHINCOME'].unique()\n",
    "# df['HHINCOME']\n",
    "# df['HHINCOME'].bar()\n",
    "\n",
    "\n",
    "def mapHHIncome(income):\n",
    "    # category: 20, 40, 60 --> 300, 350, 400, 450, 500\n",
    "    income = income // 1000\n",
    "    if income < 300: # 15 categories\n",
    "        return income // 20\n",
    "    elif income < 500: # 19 categories\n",
    "        income = income - 300\n",
    "        return 15 + income // 50\n",
    "    elif income < 1000: # \n",
    "        income = income - 500\n",
    "        return 19 + income //100\n",
    "    return 25\n",
    "    \n",
    "df_samples['hhincome'] = df['HHINCOME'].map(mapHHIncome)\n",
    "df_samples.hist(column='hhincome', bins=30)\n"
   ]
  },
  {
   "cell_type": "code",
   "execution_count": 3,
   "metadata": {},
   "outputs": [
    {
     "ename": "KeyError",
     "evalue": "'EDUCD\"'",
     "output_type": "error",
     "traceback": [
      "\u001b[0;31m---------------------------------------------------------------------------\u001b[0m",
      "\u001b[0;31mKeyError\u001b[0m                                  Traceback (most recent call last)",
      "\u001b[0;32m<ipython-input-3-3014da33622b>\u001b[0m in \u001b[0;36m<module>\u001b[0;34m()\u001b[0m\n\u001b[0;32m----> 1\u001b[0;31m \u001b[0mdf\u001b[0m\u001b[0;34m[\u001b[0m\u001b[0;34m'EDUCD\"'\u001b[0m\u001b[0;34m]\u001b[0m\u001b[0;34m.\u001b[0m\u001b[0munique\u001b[0m\u001b[0;34m(\u001b[0m\u001b[0;34m)\u001b[0m\u001b[0;34m\u001b[0m\u001b[0m\n\u001b[0m",
      "\u001b[0;32m/Users/iveel/anaconda2/lib/python2.7/site-packages/pandas/core/frame.pyc\u001b[0m in \u001b[0;36m__getitem__\u001b[0;34m(self, key)\u001b[0m\n\u001b[1;32m   2137\u001b[0m             \u001b[0;32mreturn\u001b[0m \u001b[0mself\u001b[0m\u001b[0;34m.\u001b[0m\u001b[0m_getitem_multilevel\u001b[0m\u001b[0;34m(\u001b[0m\u001b[0mkey\u001b[0m\u001b[0;34m)\u001b[0m\u001b[0;34m\u001b[0m\u001b[0m\n\u001b[1;32m   2138\u001b[0m         \u001b[0;32melse\u001b[0m\u001b[0;34m:\u001b[0m\u001b[0;34m\u001b[0m\u001b[0m\n\u001b[0;32m-> 2139\u001b[0;31m             \u001b[0;32mreturn\u001b[0m \u001b[0mself\u001b[0m\u001b[0;34m.\u001b[0m\u001b[0m_getitem_column\u001b[0m\u001b[0;34m(\u001b[0m\u001b[0mkey\u001b[0m\u001b[0;34m)\u001b[0m\u001b[0;34m\u001b[0m\u001b[0m\n\u001b[0m\u001b[1;32m   2140\u001b[0m \u001b[0;34m\u001b[0m\u001b[0m\n\u001b[1;32m   2141\u001b[0m     \u001b[0;32mdef\u001b[0m \u001b[0m_getitem_column\u001b[0m\u001b[0;34m(\u001b[0m\u001b[0mself\u001b[0m\u001b[0;34m,\u001b[0m \u001b[0mkey\u001b[0m\u001b[0;34m)\u001b[0m\u001b[0;34m:\u001b[0m\u001b[0;34m\u001b[0m\u001b[0m\n",
      "\u001b[0;32m/Users/iveel/anaconda2/lib/python2.7/site-packages/pandas/core/frame.pyc\u001b[0m in \u001b[0;36m_getitem_column\u001b[0;34m(self, key)\u001b[0m\n\u001b[1;32m   2144\u001b[0m         \u001b[0;31m# get column\u001b[0m\u001b[0;34m\u001b[0m\u001b[0;34m\u001b[0m\u001b[0m\n\u001b[1;32m   2145\u001b[0m         \u001b[0;32mif\u001b[0m \u001b[0mself\u001b[0m\u001b[0;34m.\u001b[0m\u001b[0mcolumns\u001b[0m\u001b[0;34m.\u001b[0m\u001b[0mis_unique\u001b[0m\u001b[0;34m:\u001b[0m\u001b[0;34m\u001b[0m\u001b[0m\n\u001b[0;32m-> 2146\u001b[0;31m             \u001b[0;32mreturn\u001b[0m \u001b[0mself\u001b[0m\u001b[0;34m.\u001b[0m\u001b[0m_get_item_cache\u001b[0m\u001b[0;34m(\u001b[0m\u001b[0mkey\u001b[0m\u001b[0;34m)\u001b[0m\u001b[0;34m\u001b[0m\u001b[0m\n\u001b[0m\u001b[1;32m   2147\u001b[0m \u001b[0;34m\u001b[0m\u001b[0m\n\u001b[1;32m   2148\u001b[0m         \u001b[0;31m# duplicate columns & possible reduce dimensionality\u001b[0m\u001b[0;34m\u001b[0m\u001b[0;34m\u001b[0m\u001b[0m\n",
      "\u001b[0;32m/Users/iveel/anaconda2/lib/python2.7/site-packages/pandas/core/generic.pyc\u001b[0m in \u001b[0;36m_get_item_cache\u001b[0;34m(self, item)\u001b[0m\n\u001b[1;32m   1840\u001b[0m         \u001b[0mres\u001b[0m \u001b[0;34m=\u001b[0m \u001b[0mcache\u001b[0m\u001b[0;34m.\u001b[0m\u001b[0mget\u001b[0m\u001b[0;34m(\u001b[0m\u001b[0mitem\u001b[0m\u001b[0;34m)\u001b[0m\u001b[0;34m\u001b[0m\u001b[0m\n\u001b[1;32m   1841\u001b[0m         \u001b[0;32mif\u001b[0m \u001b[0mres\u001b[0m \u001b[0;32mis\u001b[0m \u001b[0mNone\u001b[0m\u001b[0;34m:\u001b[0m\u001b[0;34m\u001b[0m\u001b[0m\n\u001b[0;32m-> 1842\u001b[0;31m             \u001b[0mvalues\u001b[0m \u001b[0;34m=\u001b[0m \u001b[0mself\u001b[0m\u001b[0;34m.\u001b[0m\u001b[0m_data\u001b[0m\u001b[0;34m.\u001b[0m\u001b[0mget\u001b[0m\u001b[0;34m(\u001b[0m\u001b[0mitem\u001b[0m\u001b[0;34m)\u001b[0m\u001b[0;34m\u001b[0m\u001b[0m\n\u001b[0m\u001b[1;32m   1843\u001b[0m             \u001b[0mres\u001b[0m \u001b[0;34m=\u001b[0m \u001b[0mself\u001b[0m\u001b[0;34m.\u001b[0m\u001b[0m_box_item_values\u001b[0m\u001b[0;34m(\u001b[0m\u001b[0mitem\u001b[0m\u001b[0;34m,\u001b[0m \u001b[0mvalues\u001b[0m\u001b[0;34m)\u001b[0m\u001b[0;34m\u001b[0m\u001b[0m\n\u001b[1;32m   1844\u001b[0m             \u001b[0mcache\u001b[0m\u001b[0;34m[\u001b[0m\u001b[0mitem\u001b[0m\u001b[0;34m]\u001b[0m \u001b[0;34m=\u001b[0m \u001b[0mres\u001b[0m\u001b[0;34m\u001b[0m\u001b[0m\n",
      "\u001b[0;32m/Users/iveel/anaconda2/lib/python2.7/site-packages/pandas/core/internals.pyc\u001b[0m in \u001b[0;36mget\u001b[0;34m(self, item, fastpath)\u001b[0m\n\u001b[1;32m   3841\u001b[0m \u001b[0;34m\u001b[0m\u001b[0m\n\u001b[1;32m   3842\u001b[0m             \u001b[0;32mif\u001b[0m \u001b[0;32mnot\u001b[0m \u001b[0misna\u001b[0m\u001b[0;34m(\u001b[0m\u001b[0mitem\u001b[0m\u001b[0;34m)\u001b[0m\u001b[0;34m:\u001b[0m\u001b[0;34m\u001b[0m\u001b[0m\n\u001b[0;32m-> 3843\u001b[0;31m                 \u001b[0mloc\u001b[0m \u001b[0;34m=\u001b[0m \u001b[0mself\u001b[0m\u001b[0;34m.\u001b[0m\u001b[0mitems\u001b[0m\u001b[0;34m.\u001b[0m\u001b[0mget_loc\u001b[0m\u001b[0;34m(\u001b[0m\u001b[0mitem\u001b[0m\u001b[0;34m)\u001b[0m\u001b[0;34m\u001b[0m\u001b[0m\n\u001b[0m\u001b[1;32m   3844\u001b[0m             \u001b[0;32melse\u001b[0m\u001b[0;34m:\u001b[0m\u001b[0;34m\u001b[0m\u001b[0m\n\u001b[1;32m   3845\u001b[0m                 \u001b[0mindexer\u001b[0m \u001b[0;34m=\u001b[0m \u001b[0mnp\u001b[0m\u001b[0;34m.\u001b[0m\u001b[0marange\u001b[0m\u001b[0;34m(\u001b[0m\u001b[0mlen\u001b[0m\u001b[0;34m(\u001b[0m\u001b[0mself\u001b[0m\u001b[0;34m.\u001b[0m\u001b[0mitems\u001b[0m\u001b[0;34m)\u001b[0m\u001b[0;34m)\u001b[0m\u001b[0;34m[\u001b[0m\u001b[0misna\u001b[0m\u001b[0;34m(\u001b[0m\u001b[0mself\u001b[0m\u001b[0;34m.\u001b[0m\u001b[0mitems\u001b[0m\u001b[0;34m)\u001b[0m\u001b[0;34m]\u001b[0m\u001b[0;34m\u001b[0m\u001b[0m\n",
      "\u001b[0;32m/Users/iveel/anaconda2/lib/python2.7/site-packages/pandas/core/indexes/base.pyc\u001b[0m in \u001b[0;36mget_loc\u001b[0;34m(self, key, method, tolerance)\u001b[0m\n\u001b[1;32m   2525\u001b[0m                 \u001b[0;32mreturn\u001b[0m \u001b[0mself\u001b[0m\u001b[0;34m.\u001b[0m\u001b[0m_engine\u001b[0m\u001b[0;34m.\u001b[0m\u001b[0mget_loc\u001b[0m\u001b[0;34m(\u001b[0m\u001b[0mkey\u001b[0m\u001b[0;34m)\u001b[0m\u001b[0;34m\u001b[0m\u001b[0m\n\u001b[1;32m   2526\u001b[0m             \u001b[0;32mexcept\u001b[0m \u001b[0mKeyError\u001b[0m\u001b[0;34m:\u001b[0m\u001b[0;34m\u001b[0m\u001b[0m\n\u001b[0;32m-> 2527\u001b[0;31m                 \u001b[0;32mreturn\u001b[0m \u001b[0mself\u001b[0m\u001b[0;34m.\u001b[0m\u001b[0m_engine\u001b[0m\u001b[0;34m.\u001b[0m\u001b[0mget_loc\u001b[0m\u001b[0;34m(\u001b[0m\u001b[0mself\u001b[0m\u001b[0;34m.\u001b[0m\u001b[0m_maybe_cast_indexer\u001b[0m\u001b[0;34m(\u001b[0m\u001b[0mkey\u001b[0m\u001b[0;34m)\u001b[0m\u001b[0;34m)\u001b[0m\u001b[0;34m\u001b[0m\u001b[0m\n\u001b[0m\u001b[1;32m   2528\u001b[0m \u001b[0;34m\u001b[0m\u001b[0m\n\u001b[1;32m   2529\u001b[0m         \u001b[0mindexer\u001b[0m \u001b[0;34m=\u001b[0m \u001b[0mself\u001b[0m\u001b[0;34m.\u001b[0m\u001b[0mget_indexer\u001b[0m\u001b[0;34m(\u001b[0m\u001b[0;34m[\u001b[0m\u001b[0mkey\u001b[0m\u001b[0;34m]\u001b[0m\u001b[0;34m,\u001b[0m \u001b[0mmethod\u001b[0m\u001b[0;34m=\u001b[0m\u001b[0mmethod\u001b[0m\u001b[0;34m,\u001b[0m \u001b[0mtolerance\u001b[0m\u001b[0;34m=\u001b[0m\u001b[0mtolerance\u001b[0m\u001b[0;34m)\u001b[0m\u001b[0;34m\u001b[0m\u001b[0m\n",
      "\u001b[0;32mpandas/_libs/index.pyx\u001b[0m in \u001b[0;36mpandas._libs.index.IndexEngine.get_loc\u001b[0;34m()\u001b[0m\n",
      "\u001b[0;32mpandas/_libs/index.pyx\u001b[0m in \u001b[0;36mpandas._libs.index.IndexEngine.get_loc\u001b[0;34m()\u001b[0m\n",
      "\u001b[0;32mpandas/_libs/hashtable_class_helper.pxi\u001b[0m in \u001b[0;36mpandas._libs.hashtable.PyObjectHashTable.get_item\u001b[0;34m()\u001b[0m\n",
      "\u001b[0;32mpandas/_libs/hashtable_class_helper.pxi\u001b[0m in \u001b[0;36mpandas._libs.hashtable.PyObjectHashTable.get_item\u001b[0;34m()\u001b[0m\n",
      "\u001b[0;31mKeyError\u001b[0m: 'EDUCD\"'"
     ]
    }
   ],
   "source": [
    "df['EDUCD\"'].unique()"
   ]
  },
  {
   "cell_type": "code",
   "execution_count": null,
   "metadata": {
    "collapsed": true
   },
   "outputs": [],
   "source": [
    "# IPUMS (category checks)\n",
    "# familysize 1->29\n",
    "# sex (male-1, female 2)\n",
    "# age (0-135)\n",
    "# educ (0-11)\n",
    "\n",
    "# ACS (category)\n",
    "# age\n",
    "# gender\n",
    "# hhsize\n",
    "# vehicles\n",
    "################## AGE (IPUMS) to age (ACS) categories #####################\n",
    "age_category = [' - Under 5 years', ' - 5 to 9 years', ' - 10 to 14 years', ' - 15 to 17 years', ' - 18 and 19 years', ' - 20 years', ' - 21 years',\n",
    "' - 22 to 24 years', ' - 25 to 29 years', ' - 30 to 34 years', ' - 35 to 39 years', ' - 40 to 44 years', ' - 45 to 49 years', ' - 50 to 54 years',\n",
    "' - 55 to 59 years', ' - 60 and 61 years', ' - 62 to 64 years', ' - 65 and 66 years', ' - 67 to 69 years', ' - 70 to 74 years', ' - 75 to 79 years',\n",
    "' - 80 to 84 years', ' - 85 years and over']\n",
    "\n",
    "ranges = [(0, 4)]\n",
    "for i in range(1, len(age_category)-1):\n",
    "    from_to = age_category[i][3:].split(' ')\n",
    "    from_age = from_to[0]\n",
    "    if len(from_to) < 3:\n",
    "        to_age = from_age\n",
    "    else:\n",
    "        to_age = from_to[2]\n",
    "    ranges.append( (int(from_age), int(to_age)) )\n",
    "ranges.append( (85, float(\"inf\")))\n",
    "\n",
    "def get_age_category(age):\n",
    "    for i in range(len(ranges)):\n",
    "        if ranges[i][0] <= age and age <= ranges[i][1]:\n",
    "            return i\n",
    "\n",
    "df_samples['age'] = df['AGE'].map(get_age_category)\n",
    "\n",
    "################## SEX (IPUMS) to gender (ACS) categories #####################\n",
    "# IPUM sex (male-1, female 2) ACS {'0': ' Male', '1': ' Female'}\n",
    "df_samples['gender'] = df['SEX'].map(lambda gender: gender - 1)\n",
    "\n",
    "################## vehicles per household #####################\n",
    "def mapVehicles(category):\n",
    "    if category == 0 or category==9:\n",
    "        return 0\n",
    "    elif category >= 4:\n",
    "        return 4\n",
    "    return category\n",
    "\n",
    "df_samples['vehicles'] = df['VEHICLES'].map(mapVehicles)\n",
    "################## people per household #####################\n",
    "df_samples['educ'] = df['EDUC']\n",
    "print(df['EDUC'].unique())  #df['SEX'].map(lambda gender: gender - 1)\n",
    "# 00\t\tN/A or no schooling\n",
    "# 01\t\tNursery school to grade 4\n",
    "# 02\t\tGrade 5, 6, 7, or 8\n",
    "# 03\t\tGrade 9\n",
    "# 04\t\tGrade 10\n",
    "# 05\t\tGrade 11\n",
    "# 06\t\tGrade 12\n",
    "# 07\t\t1 year of college\n",
    "# 08\t\t2 years of college\n",
    "# 09\t\t3 years of college\n",
    "# 10\t\t4 years of college\n",
    "# 11\t\t5+ years of college\n",
    "\n",
    "################## household_id ##########################\n",
    "df_samples['hhid'] = df['YEAR']*10**10 + df['DATANUM']*10*8 + df['SERIAL']\n",
    "\n",
    "################## individual_id ########################\n",
    "df_samples['indid'] = df_samples['hhid'] * 100 + df['PERNUM']\n",
    "\n",
    "################## people per household #####################\n",
    "# Check each household has the right number of individuals (APER)\n",
    "# print(type(samples['hhid'].value_counts()))\n",
    "# df_samples['APER'] =  df['FAMSIZE'] # not matching to counts sometimes!!\n",
    "counts = df_samples['hhid'].value_counts()\n",
    "df_samples['APER'] = df_samples['hhid'].map(lambda hhid: counts[hhid])\n",
    "\n",
    "# for index, row in samples.iterrows():\n",
    "#     if counts[row.hhid] != row.APER:\n",
    "#         row.APER = counts[row.hhid]\n",
    "#         print(int(row.hhid))\n",
    "#         print(row.hhid,  counts[row.hhid], row.APER, row)\n",
    "#         break\n",
    "#         wrong +=1\n",
    "#     else:\n",
    "#         right +=1\n",
    "# print('wrong r', wrong, right)\n",
    "\n",
    "#####\n",
    "# Baltimore has unique 23001 households\n",
    "# unique people\n",
    "# serial (household unique): Each record contains a serial number which links the persons in the housing unit to the appropriate household record.\n",
    "# PERNM (indiv unique) in the household\n",
    "# YEAR, DATANUM, and SERIAL provides a unique identifier for every household in the IPUMS;\n",
    "# YEAR, DATANUM, SERIAL, and PERNUM uniquely identifies every person in the database.\n",
    "\n",
    "######## Houshold income ######\n",
    "df_samples['hh_income'] = df['HHINCOME']\n",
    "df['TRANWORK']\n",
    "\n",
    "\n",
    "######## Write  RS samples  ###,\n",
    "df_samples['school'] = df['SCHOOL']\n",
    "df_samples['employment'] = df['EMPSTAT']\n",
    "df_samples['income_earn'] = df['INCEARN']\n",
    "\n",
    "df_samples = df_samples.sort_values(['hhid'])\n",
    "df_samples[['hhid', 'indid', 'APER', 'gender', 'age', 'educ', 'vehicles']].to_csv(multilevelSampleFile, index=False, sep=' ')\n",
    "df_samples.to_csv(sampleAttFile, index=False)\n",
    "\n",
    "print('num of samples: ', len(df_samples.index))\n",
    "################## Write individuals' vars #####################\n",
    "df_ind = pd.DataFrame()\n",
    "df_ind = df_samples.educ.value_counts()\n",
    "df_ind.rename('N', inplace=True)\n",
    "# print(type(df_ind.educ.value_counts()))\n",
    "df_ind.to_csv(indFile, index_label='educ', sep=' ',  header=True)\n"
   ]
  }
 ],
 "metadata": {
  "kernelspec": {
   "display_name": "Python 3",
   "language": "python",
   "name": "python3"
  },
  "language_info": {
   "codemirror_mode": {
    "name": "ipython",
    "version": 2
   },
   "file_extension": ".py",
   "mimetype": "text/x-python",
   "name": "python",
   "nbconvert_exporter": "python",
   "pygments_lexer": "ipython2",
   "version": "2.7.14"
  }
 },
 "nbformat": 4,
 "nbformat_minor": 2
}
